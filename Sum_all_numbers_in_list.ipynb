{
  "nbformat": 4,
  "nbformat_minor": 0,
  "metadata": {
    "colab": {
      "provenance": [],
      "authorship_tag": "ABX9TyOleLC5Aj0P4cwhJ8idCE6p",
      "include_colab_link": true
    },
    "kernelspec": {
      "name": "python3",
      "display_name": "Python 3"
    },
    "language_info": {
      "name": "python"
    }
  },
  "cells": [
    {
      "cell_type": "markdown",
      "metadata": {
        "id": "view-in-github",
        "colab_type": "text"
      },
      "source": [
        "<a href=\"https://colab.research.google.com/github/madhu143binnu/sum-all-the-numbers-in-a-list/blob/main/Sum_all_numbers_in_list.ipynb\" target=\"_parent\"><img src=\"https://colab.research.google.com/assets/colab-badge.svg\" alt=\"Open In Colab\"/></a>"
      ]
    },
    {
      "cell_type": "markdown",
      "source": [
        "\n",
        "Python Assignment -3\n",
        "Write a Python function to sum all the numbers in a list.\n",
        "\n",
        "\n",
        "\n",
        "Sample List : [8, 2, 3, 0, 7]\n",
        "\n",
        "Expected Output : 20"
      ],
      "metadata": {
        "id": "5b6VP5Au_Duj"
      }
    },
    {
      "cell_type": "code",
      "execution_count": null,
      "metadata": {
        "colab": {
          "base_uri": "https://localhost:8080/"
        },
        "id": "s_4Wdzen_DI0",
        "outputId": "4df6d7c0-0384-4e52-90c4-56747a373c61"
      },
      "outputs": [
        {
          "output_type": "stream",
          "name": "stdout",
          "text": [
            "20\n"
          ]
        }
      ],
      "source": [
        "List =[8, 2, 3, 0, 7]\n",
        "sum = sum (List)\n",
        "print (sum)"
      ]
    }
  ]
}